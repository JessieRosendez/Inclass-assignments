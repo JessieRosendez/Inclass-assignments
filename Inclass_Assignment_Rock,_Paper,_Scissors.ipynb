{
  "nbformat": 4,
  "nbformat_minor": 0,
  "metadata": {
    "colab": {
      "provenance": [],
      "authorship_tag": "ABX9TyNc2DeYV5bRWsYcUAMCkmPc",
      "include_colab_link": true
    },
    "kernelspec": {
      "name": "python3",
      "display_name": "Python 3"
    },
    "language_info": {
      "name": "python"
    }
  },
  "cells": [
    {
      "cell_type": "markdown",
      "metadata": {
        "id": "view-in-github",
        "colab_type": "text"
      },
      "source": [
        "<a href=\"https://colab.research.google.com/github/JessieRosendez/Inclass-assignments/blob/main/Inclass_Assignment_Rock%2C_Paper%2C_Scissors.ipynb\" target=\"_parent\"><img src=\"https://colab.research.google.com/assets/colab-badge.svg\" alt=\"Open In Colab\"/></a>"
      ]
    },
    {
      "cell_type": "code",
      "execution_count": null,
      "metadata": {
        "id": "6OSY1oP7Hexx",
        "outputId": "391dbc63-a50a-4431-ddf1-d53b379caefb",
        "colab": {
          "base_uri": "https://localhost:8080/"
        }
      },
      "outputs": [
        {
          "output_type": "stream",
          "name": "stdout",
          "text": [
            "Welcome to Rock-Paper-Scissors!\n",
            "Enter your choice (rock, paper, scissors): rock\n",
            "Enter your choice (rock, paper, scissors): scissors\n",
            "Player 1 chose: rock\n",
            "Player 2 chose: scissors\n",
            "Player 1 wins!\n"
          ]
        }
      ],
      "source": [
        "import random\n",
        "\n",
        "\n",
        "\n",
        "# define argument\n",
        "def get_player_choice():\n",
        "    \"\"\"Gets player's choice from keyboard input.\"\"\"\n",
        "    while True:\n",
        "        choice = input(\"Enter your choice (rock, paper, scissors): \").lower()\n",
        "        if choice in [\"rock\", \"paper\", \"scissors\"]:\n",
        "            return choice\n",
        "        else:\n",
        "            print(\"Invalid choice. Please try again.\")\n",
        "\n",
        "\n",
        "\n",
        "#define the winner based on the choices\n",
        "def determine_winner(player1_choice, player2_choice):\n",
        "    \"\"\"Determines the winner based on the choices.\"\"\"\n",
        "    if player1_choice == player2_choice:\n",
        "        return \"It's a tie!\"\n",
        "    elif (player1_choice == \"rock\" and player2_choice == \"scissors\") or \\\n",
        "         (player1_choice == \"scissors\" and player2_choice == \"paper\") or \\\n",
        "         (player1_choice == \"paper\" and player2_choice == \"rock\"):\n",
        "        return \"Player 1 wins!\"\n",
        "    else:\n",
        "        return \"Player 2 wins!\"\n",
        "\n",
        "#the output when  players choose the results\n",
        "def play_game():\n",
        "    \"\"\"Plays the Rock-Paper-Scissors game.\"\"\"\n",
        "    while True:\n",
        "        player1_choice = get_player_choice()\n",
        "        player2_choice = get_player_choice()\n",
        "\n",
        "        print(f\"Player 1 chose: {player1_choice}\")\n",
        "        print(f\"Player 2 chose: {player2_choice}\")\n",
        "\n",
        "        result = determine_winner(player1_choice, player2_choice)\n",
        "        print(result)\n",
        "\n",
        "        play_again = input(\"Play again? (yes/no): \").lower()\n",
        "        if play_again != \"yes\":\n",
        "            break\n",
        "\n",
        "#introduction and then run the function and then the goodbye\n",
        "print(\"Welcome to Rock-Paper-Scissors!\")\n",
        "play_game()\n",
        "print(\"Thanks for playing!\")"
      ]
    },
    {
      "cell_type": "code",
      "source": [
        "play = input(' Do you want to play a game (yes/no)? '). capitalize()\n",
        "\n",
        "while play == 'Yes':\n",
        "  p1 = input(' Player 1 choose between rock/paper/scissors: ')\n",
        "  p2 = input(' Player 2 choose between rock/paper/scissors: ')\n",
        "\n",
        "  if p1 == p2:\n",
        "    print( 'draw')\n",
        "  elif p1 == 'rock' and p2 == 'scissors':\n",
        "    print( 'Player 1 wins')\n",
        "  elif p1 == 'paper' and p2 == 'rock':\n",
        "    print( 'Player 1 wins')\n",
        "  elif p1 == 'scissors' and p2 == 'paper':\n",
        "    print( 'Player 1 wins')\n",
        "  else:\n",
        "    print( 'Player 2 wins')\n",
        "\n",
        "  play = input(' Do you want to play a game (yes/no)? ').capitalize()\n",
        "print (' Good day....')"
      ],
      "metadata": {
        "colab": {
          "base_uri": "https://localhost:8080/"
        },
        "collapsed": true,
        "id": "hRuIesp_NNFh",
        "outputId": "98e2fbcf-dfa1-44b6-8892-a8175016c691"
      },
      "execution_count": null,
      "outputs": [
        {
          "output_type": "stream",
          "name": "stdout",
          "text": [
            " Do you want to play a game (yes/no)? eys\n",
            " Good day....\n"
          ]
        }
      ]
    },
    {
      "cell_type": "code",
      "source": [],
      "metadata": {
        "id": "7bEd0HOTR_en"
      },
      "execution_count": null,
      "outputs": []
    }
  ]
}