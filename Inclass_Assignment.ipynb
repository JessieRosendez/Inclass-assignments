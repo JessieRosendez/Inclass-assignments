{
  "nbformat": 4,
  "nbformat_minor": 0,
  "metadata": {
    "colab": {
      "provenance": [],
      "authorship_tag": "ABX9TyPd6a/+gaGJ/ti3V2o9J0rD",
      "include_colab_link": true
    },
    "kernelspec": {
      "name": "python3",
      "display_name": "Python 3"
    },
    "language_info": {
      "name": "python"
    }
  },
  "cells": [
    {
      "cell_type": "markdown",
      "metadata": {
        "id": "view-in-github",
        "colab_type": "text"
      },
      "source": [
        "<a href=\"https://colab.research.google.com/github/JessieRosendez/Inclass-assignments/blob/main/Inclass_Assignment.ipynb\" target=\"_parent\"><img src=\"https://colab.research.google.com/assets/colab-badge.svg\" alt=\"Open In Colab\"/></a>"
      ]
    },
    {
      "cell_type": "code",
      "execution_count": null,
      "metadata": {
        "id": "ZQk3MQ2QPEGz"
      },
      "outputs": [],
      "source": []
    },
    {
      "cell_type": "markdown",
      "source": [
        "whil"
      ],
      "metadata": {
        "id": "LPTd0H_yPmO9"
      }
    },
    {
      "source": [
        "#create an empty list\n",
        "my_list = []\n",
        "\n",
        "#create the loop, allow integers to be input, but add the break to \"0\"\n",
        "while True:\n",
        "    user_input = int(input(\"Enter a number (enter 0 to stop): \"))\n",
        "    if user_input == 0:\n",
        "        break\n",
        "    my_list.append(user_input)\n",
        "\n",
        "\n",
        "my_list.sort(reverse=True)  # Sort in descending order\n",
        "\n",
        "print(\"List in descending order:\", my_list) # List in descending order"
      ],
      "cell_type": "code",
      "metadata": {
        "colab": {
          "base_uri": "https://localhost:8080/"
        },
        "id": "qm2gZrwQP6ZA",
        "outputId": "ee1e80cb-c01b-4532-db8c-f67d51bceafe"
      },
      "execution_count": 1,
      "outputs": [
        {
          "output_type": "stream",
          "name": "stdout",
          "text": [
            "Enter a number (enter 0 to stop): 1\n",
            "Enter a number (enter 0 to stop): 23\n",
            "Enter a number (enter 0 to stop): 2\n",
            "Enter a number (enter 0 to stop): 25\n",
            "Enter a number (enter 0 to stop): 25\n",
            "Enter a number (enter 0 to stop): 3\n",
            "Enter a number (enter 0 to stop): 0\n",
            "List in descending order: [25, 25, 23, 3, 2, 1]\n"
          ]
        }
      ]
    },
    {
      "cell_type": "code",
      "source": [
        "1st = []\n",
        "\n",
        "num = float(input('Give a number: '))\n",
        "\n",
        "while num != 0.0:\n",
        "  1st.append(num)\n",
        "  num = float(input('Give a number: '))\n",
        "\n",
        "1st.sort(reverse=True)\n",
        "print(1st)"
      ],
      "metadata": {
        "colab": {
          "base_uri": "https://localhost:8080/",
          "height": 105
        },
        "id": "-UGDORwfRZ1A",
        "outputId": "7a5e9c3a-57a8-46ee-c388-e02001ca7956"
      },
      "execution_count": 5,
      "outputs": [
        {
          "output_type": "error",
          "ename": "SyntaxError",
          "evalue": "invalid decimal literal (<ipython-input-5-af9dc306dff2>, line 1)",
          "traceback": [
            "\u001b[0;36m  File \u001b[0;32m\"<ipython-input-5-af9dc306dff2>\"\u001b[0;36m, line \u001b[0;32m1\u001b[0m\n\u001b[0;31m    1st = []\u001b[0m\n\u001b[0m    ^\u001b[0m\n\u001b[0;31mSyntaxError\u001b[0m\u001b[0;31m:\u001b[0m invalid decimal literal\n"
          ]
        }
      ]
    },
    {
      "cell_type": "code",
      "source": [
        "L1 = [1, 2, 3, 4]\n",
        "L2 = [1, 2, 5, 6]\n",
        "\n",
        "for item in L1:\n",
        "  if item in L2:\n",
        "    L1.remove(item)\n",
        "\n",
        "\n",
        "L1"
      ],
      "metadata": {
        "colab": {
          "base_uri": "https://localhost:8080/"
        },
        "id": "NXi--a4BP60V",
        "outputId": "ec1daf2e-caba-4b2b-c4ac-b8ed4c74ca4b"
      },
      "execution_count": 6,
      "outputs": [
        {
          "output_type": "execute_result",
          "data": {
            "text/plain": [
              "[2, 3, 4]"
            ]
          },
          "metadata": {},
          "execution_count": 6
        }
      ]
    }
  ]
}