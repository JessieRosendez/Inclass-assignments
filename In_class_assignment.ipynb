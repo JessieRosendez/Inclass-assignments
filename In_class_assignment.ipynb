{
  "nbformat": 4,
  "nbformat_minor": 0,
  "metadata": {
    "colab": {
      "provenance": [],
      "authorship_tag": "ABX9TyMUcoXxhvmdKhfr1l3ydruP",
      "include_colab_link": true
    },
    "kernelspec": {
      "name": "python3",
      "display_name": "Python 3"
    },
    "language_info": {
      "name": "python"
    }
  },
  "cells": [
    {
      "cell_type": "markdown",
      "metadata": {
        "id": "view-in-github",
        "colab_type": "text"
      },
      "source": [
        "<a href=\"https://colab.research.google.com/github/JessieRosendez/Inclass-assignments/blob/main/In_class_assignment.ipynb\" target=\"_parent\"><img src=\"https://colab.research.google.com/assets/colab-badge.svg\" alt=\"Open In Colab\"/></a>"
      ]
    },
    {
      "cell_type": "code",
      "execution_count": null,
      "metadata": {
        "colab": {
          "base_uri": "https://localhost:8080/"
        },
        "id": "ra2xJQtxXjNr",
        "outputId": "7577b99a-8c3a-4398-9d0b-9223a0e7d404"
      },
      "outputs": [
        {
          "output_type": "stream",
          "name": "stdout",
          "text": [
            "Hours Parked | Parking Fee\n",
            "------------------------\n",
            "           1 | $10.00\n",
            "           2 | $10.00\n",
            "           3 | $11.60\n",
            "           4 | $13.80\n",
            "           5 | $16.00\n",
            "           6 | $18.20\n",
            "           7 | $20.00\n",
            "           8 | $20.00\n"
          ]
        }
      ],
      "source": [
        "def calculate_parking_fee(hours_parked):\n",
        "  \"\"\"Calculates the parking fee based on the number of hours parked.\n",
        "\n",
        "  Args:\n",
        "    hours_parked: The number of hours the vehicle was parked.\n",
        "\n",
        "  Returns:\n",
        "    The parking fee.\n",
        "  \"\"\"\n",
        "\n",
        "\n",
        "\n",
        "\n",
        "# Calculate the initial fee.\n",
        "  fee = 5 + (hours_parked * 2.20)\n",
        "\n",
        "  # Apply the minimum and maximum fees.\n",
        "  fee = max(10, fee)  # Minimum fee is $10.\n",
        "  fee = min(20, fee)  # Maximum fee is $20.\n",
        "\n",
        "  return fee\n",
        "\n",
        "# Print the table header.\n",
        "print(\"Hours Parked | Parking Fee\")\n",
        "print(\"------------------------\")\n",
        "\n",
        "# Generate and print the table rows.\n",
        "for hours in range(1, 9):\n",
        "  fee = calculate_parking_fee(hours)\n",
        "  print(f\"{hours:12} | ${fee:.2f}\")"
      ]
    },
    {
      "cell_type": "code",
      "source": [
        "for number in range(1, 11):\n",
        "  if number % 2 == 0:\n",
        "    print(number, end= ' ')\n"
      ],
      "metadata": {
        "colab": {
          "base_uri": "https://localhost:8080/"
        },
        "id": "IPtMsvYbbbGN",
        "outputId": "5a7ee57b-939a-40ad-98df-020fa16c38f5"
      },
      "execution_count": null,
      "outputs": [
        {
          "output_type": "stream",
          "name": "stdout",
          "text": [
            "2 4 6 8 10 "
          ]
        }
      ]
    },
    {
      "cell_type": "code",
      "source": [
        "for number in range(2, 11, 2):\n",
        "  print(number, end= ' ')"
      ],
      "metadata": {
        "colab": {
          "base_uri": "https://localhost:8080/"
        },
        "id": "8rKs-BjEboi4",
        "outputId": "62a3277e-5e92-40e8-fe8c-98129ba45339"
      },
      "execution_count": null,
      "outputs": [
        {
          "output_type": "stream",
          "name": "stdout",
          "text": [
            "2 4 6 8 10 "
          ]
        }
      ]
    },
    {
      "cell_type": "code",
      "source": [
        "for numberHours in range(1, 9):\n",
        "  fee =  5 + 2.5 * numberHours\n",
        "  if fee < 10:\n",
        "    fee = 10\n",
        "  elif fee > 20:\n",
        "    fee = 20.0\n",
        "  print(numberHours , fee)"
      ],
      "metadata": {
        "colab": {
          "base_uri": "https://localhost:8080/"
        },
        "id": "wvqqpt5BbzkW",
        "outputId": "e88d0dab-c0ff-4bed-bc9f-1038aa7a44fa"
      },
      "execution_count": null,
      "outputs": [
        {
          "output_type": "stream",
          "name": "stdout",
          "text": [
            "1 10\n",
            "2 10.0\n",
            "3 12.5\n",
            "4 15.0\n",
            "5 17.5\n",
            "6 20.0\n",
            "7 20.0\n",
            "8 20.0\n"
          ]
        }
      ]
    },
    {
      "cell_type": "code",
      "source": [
        "import math\n",
        "\n",
        "def calculate_profit(advertising_cost):\n",
        "  \"\"\"Calculates the profit for a given advertising cost.\n",
        "\n",
        "  Args:\n",
        "    advertising_cost: The cost of advertising in dollars.\n",
        "\n",
        "  Returns:\n",
        "    The profit in dollars.\n",
        "  \"\"\"\n",
        "\n",
        "  # Calculate the number of additional attendees.\n",
        "  additional_attendees = 2 * round(advertising_cost**0.5)\n",
        "\n",
        "  # Calculate the total number of attendees.\n",
        "  total_attendees = 20 + additional_attendees\n",
        "\n",
        "  # Calculate the total revenue.\n",
        "  revenue = total_attendees * 10\n",
        "\n",
        "  # Calculate the total cost.\n",
        "  total_cost = 200 + advertising_cost\n",
        "\n",
        "  # Calculate the profit.\n",
        "  profit = revenue - total_cost\n",
        "\n",
        "  return profit\n",
        "\n",
        "\n",
        "# Generate the table.\n",
        "print(\"Advertising Cost | Profit\")\n",
        "print(\"-------------------------\")\n",
        "\n",
        "for advertising_cost in range(0, 201, 10):\n",
        "  profit = calculate_profit(advertising_cost)\n",
        "  print(f\"${advertising_cost:16} | ${profit:6.2f}\")"
      ],
      "metadata": {
        "colab": {
          "base_uri": "https://localhost:8080/"
        },
        "id": "nzhQvW3RdmNX",
        "outputId": "0e55b584-66fa-493e-b95a-2fd65412e08d"
      },
      "execution_count": null,
      "outputs": [
        {
          "output_type": "stream",
          "name": "stdout",
          "text": [
            "Advertising Cost | Profit\n",
            "-------------------------\n",
            "$               0 | $  0.00\n",
            "$              10 | $ 50.00\n",
            "$              20 | $ 60.00\n",
            "$              30 | $ 70.00\n",
            "$              40 | $ 80.00\n",
            "$              50 | $ 90.00\n",
            "$              60 | $100.00\n",
            "$              70 | $ 90.00\n",
            "$              80 | $100.00\n",
            "$              90 | $ 90.00\n",
            "$             100 | $100.00\n",
            "$             110 | $ 90.00\n",
            "$             120 | $100.00\n",
            "$             130 | $ 90.00\n",
            "$             140 | $100.00\n",
            "$             150 | $ 90.00\n",
            "$             160 | $100.00\n",
            "$             170 | $ 90.00\n",
            "$             180 | $ 80.00\n",
            "$             190 | $ 90.00\n",
            "$             200 | $ 80.00\n"
          ]
        }
      ]
    },
    {
      "cell_type": "code",
      "source": [
        "for admoney in range (0, 201, 25):\n",
        "\n",
        "  revenue = (20 + 2 * round(admoney**0.5)) * 10\n",
        "  cost = 200 + admoney\n",
        "  profit = revenue - cost\n",
        "  print(admoney, profit)"
      ],
      "metadata": {
        "colab": {
          "base_uri": "https://localhost:8080/"
        },
        "id": "8yo_gWtwhhv5",
        "outputId": "c9c314ef-6d57-44c5-f889-06adf10e24f7"
      },
      "execution_count": null,
      "outputs": [
        {
          "output_type": "stream",
          "name": "stdout",
          "text": [
            "0 0\n",
            "25 75\n",
            "50 90\n",
            "75 105\n",
            "100 100\n",
            "125 95\n",
            "150 90\n",
            "175 85\n",
            "200 80\n"
          ]
        }
      ]
    }
  ]
}